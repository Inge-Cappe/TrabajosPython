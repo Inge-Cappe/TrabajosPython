{
  "nbformat": 4,
  "nbformat_minor": 0,
  "metadata": {
    "colab": {
      "provenance": [],
      "collapsed_sections": [],
      "authorship_tag": "ABX9TyP/GQ8NSZmN12tVCrbKra70",
      "include_colab_link": true
    },
    "kernelspec": {
      "name": "python3",
      "display_name": "Python 3"
    },
    "language_info": {
      "name": "python"
    }
  },
  "cells": [
    {
      "cell_type": "markdown",
      "metadata": {
        "id": "view-in-github",
        "colab_type": "text"
      },
      "source": [
        "<a href=\"https://colab.research.google.com/github/Inge-Cappe/TrabajosPython/blob/main/Copia_de_8_sept_.ipynb\" target=\"_parent\"><img src=\"https://colab.research.google.com/assets/colab-badge.svg\" alt=\"Open In Colab\"/></a>"
      ]
    },
    {
      "cell_type": "code",
      "execution_count": null,
      "metadata": {
        "colab": {
          "base_uri": "https://localhost:8080/"
        },
        "id": "4iUlK4pbYMMB",
        "outputId": "70f9aa4d-c9f4-4918-d3dd-ca7de52d4c30"
      },
      "outputs": [
        {
          "output_type": "stream",
          "name": "stdout",
          "text": [
            "ingrese la cantidad de materias: 4\n",
            "ingrese el nombre de la maetria1calculo\n",
            "ingrese el nombre de la maetria2data base\n",
            "ingrese el nombre de la maetria3programacion\n",
            "ingrese el nombre de la maetria4etica\n",
            "['calculo', 'data base', 'programacion', 'etica']\n"
          ]
        }
      ],
      "source": [
        "listamaterias=[]\n",
        "\n",
        "\n",
        "num_materias=int(input('ingrese la cantidad de materias: '))\n",
        "\n",
        "for i in range(num_materias):\n",
        "   materia=input('ingrese el nombre de la maetria'+str(i+1))\n",
        "   listamaterias.append(materia)\n",
        "print(listamaterias)"
      ]
    },
    {
      "cell_type": "code",
      "source": [
        "\n",
        "notas=[]\n",
        "for i in range(len(listamaterias)):\n",
        "  nota=float(input(\"ingrese la nota que espera de \"+listamaterias[i] + \" \"))\n",
        "  notas.append(nota)\n",
        "print(notas)\n"
      ],
      "metadata": {
        "id": "-Yd4dJIBc4qf"
      },
      "execution_count": null,
      "outputs": []
    },
    {
      "cell_type": "code",
      "source": [
        "paso=[]\n",
        "perdio=[]\n",
        "for i in range(len(listamaterias)):\n",
        "  if(notas[i]>3):\n",
        "    paso.append(listamaterias[i])\n",
        "  else:\n",
        "    perdio.append(listamaterias[i])\n",
        " \n",
        "\n",
        "print(\"las materias que paso fueron: \"+str(paso) +\" \")\n",
        "print(\"las materias que perdio fueron : \"+str (perdio)+ \" \")\n"
      ],
      "metadata": {
        "colab": {
          "base_uri": "https://localhost:8080/"
        },
        "id": "MzwYLDinithp",
        "outputId": "0e12530e-8bba-4d5c-b114-1fac6a355a0e"
      },
      "execution_count": null,
      "outputs": [
        {
          "output_type": "stream",
          "name": "stdout",
          "text": [
            "las materias que paso fueron: ['calculo', 'etica'] \n",
            "las materias que perdio fueron : ['data base', 'programacion'] \n"
          ]
        }
      ]
    },
    {
      "cell_type": "code",
      "source": [
        "palabra= input(\"ingrese una palabra\" + \" \")\n",
        "if str(palabra) == str(palabra)[::-1] :\n",
        "    print(\"el texto o palabra ingresada = \" +palabra+ \" Es un Palindrome \")\n",
        "else:\n",
        "    print(\"El texto o palabra ingresada \" +palabra+ \" no es un Palindrome \" )"
      ],
      "metadata": {
        "colab": {
          "base_uri": "https://localhost:8080/"
        },
        "id": "UJph0Xj2lcpj",
        "outputId": "c147f299-3236-4edf-ea2f-fa1a4bbdf244"
      },
      "execution_count": null,
      "outputs": [
        {
          "output_type": "stream",
          "name": "stdout",
          "text": [
            "ingrese una palabra asa\n",
            "el texto o palabra ingresada = asa Es un Palindrome \n"
          ]
        }
      ]
    },
    {
      "cell_type": "code",
      "source": [
        "import math\n",
        "magnitudV1= int(input(\"ingrese la magnitud del primer vector: \"))\n",
        "magnitudV2= int(input(\"ingrese la magnitud del segundo vector: \" ))\n",
        "grado1= int(input(\"ingrese el grado del primer vector: \"))\n",
        "grado2= int(input(\"ingrese el grado del segundo vector : \"))\n",
        "if (grado1>grado2):\n",
        "   gradodif=(float(grado1))-(float(grado2)) \n",
        "else:\n",
        "    gradodif=(float(grado2))-(float(grado1))\n",
        "\n",
        "magnitudtotal=(magnitudV1*magnitudV2)\n",
        "direccion=(math.cos(gradodif))\n",
        " print(\"la magnitud escalar es :\" +str(magnitudtotal)+\"y su direcion es: \" +str(direccion)+\"grados\")   "
      ],
      "metadata": {
        "colab": {
          "base_uri": "https://localhost:8080/"
        },
        "id": "Nq-m47mMrNoZ",
        "outputId": "7f35dba0-8fca-4304-ae69-17e882a201ad"
      },
      "execution_count": null,
      "outputs": [
        {
          "output_type": "stream",
          "name": "stdout",
          "text": [
            "ingrese la magnitud del primer vector: 30\n",
            "ingrese la magnitud del segundo vector: 30\n",
            "ingrese el grado del primer vector: 20\n",
            "ingrese el grado del segundo vector : 10\n",
            "10.0\n"
          ]
        }
      ]
    },
    {
      "cell_type": "code",
      "source": [
        "import numpy\n",
        "Numeros=[]\n",
        "\n",
        "while (True):\n",
        "   \n",
        "    numero=input(\"Ingrese un numero si desea continuar, de lo contrario digite la palabra 'fin' \")\n",
        "    if numero.lower () != (\"fin\"):\n",
        "      Numeros.append(int(numero))\n",
        "    if numero.lower () == (\"fin\"):\n",
        "      #Numeros.pop()\n",
        "      m=numpy.mean(Numeros)\n",
        "      std=numpy.std(Numeros)\n",
        "      print(m)\n",
        "      print(std)\n",
        "      print(Numeros)\n",
        "      break"
      ],
      "metadata": {
        "id": "Tyb_E3GMrhL2"
      },
      "execution_count": null,
      "outputs": []
    },
    {
      "cell_type": "code",
      "source": [
        "valor=int(input(\"Ingrese el monto que paga el usuario\"))\n",
        "pago=int(input(\"Ingrese el total a pagar \"))\n",
        "valor=valor-pago\n",
        "if (valor==0):\n",
        " print(\"Su compra fue exitosa, que tenga un buen dia.\")\n",
        "elif (valor<0):\n",
        "  print(\"ouch, no alcanza, la cantidad faltante es: \",valor*-1)\n",
        "else :\n",
        "    print(\"Porfavor reciba su cambio $\",valor)\n",
        "    denominaciones=[100000,50000,20000,10000,5000,2000,1000,500,200,100,50]\n",
        "    for denominacion in denominaciones:\n",
        "     cantidad=valor//denominacion\n",
        "     valor=valor%denominacion\n",
        "     if cantidad>0:\n",
        "      print(cantidad,\"de \",denominacion)"
      ],
      "metadata": {
        "id": "hurvJwSJQboD"
      },
      "execution_count": null,
      "outputs": []
    },
    {
      "cell_type": "code",
      "source": [
        "divisa = {\"Euro\":'€', 'Dollar':'$', 'Yen':'¥'}\n",
        "divisaSeleccionada = input(\"Digite la divisa a la cual desea saber su simbolo: \")\n",
        "if divisaSeleccionada.title() in divisa:\n",
        "    print(\"La divisa correspondiente es: \",divisa[divisaSeleccionada.title()])\n",
        "else:\n",
        "    print(\"La divisa no esta en el diccionario, porfavor rectifique que la divisa este en minuscula, sin puntos ni comas.\")\n",
        "    "
      ],
      "metadata": {
        "colab": {
          "base_uri": "https://localhost:8080/"
        },
        "id": "rcGIZAMMRnaF",
        "outputId": "b289c8c6-1b27-40a1-816c-5e226d1cd400"
      },
      "execution_count": 26,
      "outputs": [
        {
          "output_type": "stream",
          "name": "stdout",
          "text": [
            "Digite la divisa a la cual desea saber su simbolo: euro\n",
            "La divisa correspondiente es:  €\n"
          ]
        }
      ]
    },
    {
      "cell_type": "code",
      "source": [
        "Datos = {}\n",
        "nombre = input('Ingrese el nombre: ')\n",
        "edad = int(input('ingrese la edad: '))\n",
        "direccion = (input('ingrese la direccion: '))\n",
        "telefono = int(input('ingrese el telefono: '))\n",
        "\n",
        "Datos[''] = nombre\n",
        "Datos[''] = edad\n",
        "Datos[''] = direccion\n",
        "Datos['']=telefono\n",
        "print(\"\\n\",nombre,\"tiene\",edad,\"años\",\"vive en\",direccion,\"y su numero de telefono es\",telefono)"
      ],
      "metadata": {
        "id": "-S-QyjKGSmLs"
      },
      "execution_count": null,
      "outputs": []
    },
    {
      "cell_type": "code",
      "source": [
        "fruta = {\n",
        "            'Platano': 1.35,\n",
        "           'Manzana':0.80,\n",
        "            'Pera':0.85,\n",
        "            'Naranja': 0.70,\n",
        "            \n",
        "}\n",
        "frutas=input(\"Ingrese el nombre la fruta que desea llevar, contamos con\\nPlatano \\nManzana\\nPera\\nNaranja \")\n",
        "if frutas in fruta:\n",
        "  kg=int(input(\"¿Cuantos kilos desea llevar?\"))\n",
        "  print(kg,\"kilos de \", frutas, \"valen \",fruta[frutas]*kg, \"$\")\n",
        "\n",
        "else:\n",
        "   print(\"La fruta ingresada no se encuentra disponible\")"
      ],
      "metadata": {
        "id": "nDsaa4zeTA1o"
      },
      "execution_count": null,
      "outputs": []
    },
    {
      "cell_type": "code",
      "source": [
        "cesta = {}\n",
        "f = True\n",
        "while f:\n",
        "    item = input('Digite el nombre del articulo: ')\n",
        "    precio = float(input('Digite el precio de ' + item + ': '))\n",
        "    cesta[item] = precio\n",
        "    f = input('¿Desea añadir artículos a la lista (Si/No)? ') == \"Si\" or \"si\" or \"SI\"\n",
        "coste = 0\n",
        "print('Lista de compras')\n",
        "for item, precio in cesta.items():\n",
        "    print(item, '\\t', precio)\n",
        "    coste += precio\n",
        "print('Precio total: ', coste)\n"
      ],
      "metadata": {
        "colab": {
          "base_uri": "https://localhost:8080/",
          "height": 381
        },
        "id": "20VGOZbrT42V",
        "outputId": "279caacd-aecd-4538-9cad-d7b28526c4d7"
      },
      "execution_count": 42,
      "outputs": [
        {
          "output_type": "error",
          "ename": "KeyboardInterrupt",
          "evalue": "ignored",
          "traceback": [
            "\u001b[0;31m---------------------------------------------------------------------------\u001b[0m",
            "\u001b[0;31mKeyboardInterrupt\u001b[0m                         Traceback (most recent call last)",
            "\u001b[0;32m<ipython-input-42-dc49d806f2d0>\u001b[0m in \u001b[0;36m<module>\u001b[0;34m\u001b[0m\n\u001b[1;32m      2\u001b[0m \u001b[0mf\u001b[0m \u001b[0;34m=\u001b[0m \u001b[0;32mTrue\u001b[0m\u001b[0;34m\u001b[0m\u001b[0;34m\u001b[0m\u001b[0m\n\u001b[1;32m      3\u001b[0m \u001b[0;32mwhile\u001b[0m \u001b[0mf\u001b[0m\u001b[0;34m:\u001b[0m\u001b[0;34m\u001b[0m\u001b[0;34m\u001b[0m\u001b[0m\n\u001b[0;32m----> 4\u001b[0;31m     \u001b[0mitem\u001b[0m \u001b[0;34m=\u001b[0m \u001b[0minput\u001b[0m\u001b[0;34m(\u001b[0m\u001b[0;34m'Digite el nombre del articulo: '\u001b[0m\u001b[0;34m)\u001b[0m\u001b[0;34m\u001b[0m\u001b[0;34m\u001b[0m\u001b[0m\n\u001b[0m\u001b[1;32m      5\u001b[0m     \u001b[0mprecio\u001b[0m \u001b[0;34m=\u001b[0m \u001b[0mfloat\u001b[0m\u001b[0;34m(\u001b[0m\u001b[0minput\u001b[0m\u001b[0;34m(\u001b[0m\u001b[0;34m'Digite el precio de '\u001b[0m \u001b[0;34m+\u001b[0m \u001b[0mitem\u001b[0m \u001b[0;34m+\u001b[0m \u001b[0;34m': '\u001b[0m\u001b[0;34m)\u001b[0m\u001b[0;34m)\u001b[0m\u001b[0;34m\u001b[0m\u001b[0;34m\u001b[0m\u001b[0m\n\u001b[1;32m      6\u001b[0m     \u001b[0mcesta\u001b[0m\u001b[0;34m[\u001b[0m\u001b[0mitem\u001b[0m\u001b[0;34m]\u001b[0m \u001b[0;34m=\u001b[0m \u001b[0mprecio\u001b[0m\u001b[0;34m\u001b[0m\u001b[0;34m\u001b[0m\u001b[0m\n",
            "\u001b[0;32m/usr/local/lib/python3.7/dist-packages/ipykernel/kernelbase.py\u001b[0m in \u001b[0;36mraw_input\u001b[0;34m(self, prompt)\u001b[0m\n\u001b[1;32m    861\u001b[0m             \u001b[0mself\u001b[0m\u001b[0;34m.\u001b[0m\u001b[0m_parent_ident\u001b[0m\u001b[0;34m,\u001b[0m\u001b[0;34m\u001b[0m\u001b[0;34m\u001b[0m\u001b[0m\n\u001b[1;32m    862\u001b[0m             \u001b[0mself\u001b[0m\u001b[0;34m.\u001b[0m\u001b[0m_parent_header\u001b[0m\u001b[0;34m,\u001b[0m\u001b[0;34m\u001b[0m\u001b[0;34m\u001b[0m\u001b[0m\n\u001b[0;32m--> 863\u001b[0;31m             \u001b[0mpassword\u001b[0m\u001b[0;34m=\u001b[0m\u001b[0;32mFalse\u001b[0m\u001b[0;34m,\u001b[0m\u001b[0;34m\u001b[0m\u001b[0;34m\u001b[0m\u001b[0m\n\u001b[0m\u001b[1;32m    864\u001b[0m         )\n\u001b[1;32m    865\u001b[0m \u001b[0;34m\u001b[0m\u001b[0m\n",
            "\u001b[0;32m/usr/local/lib/python3.7/dist-packages/ipykernel/kernelbase.py\u001b[0m in \u001b[0;36m_input_request\u001b[0;34m(self, prompt, ident, parent, password)\u001b[0m\n\u001b[1;32m    902\u001b[0m             \u001b[0;32mexcept\u001b[0m \u001b[0mKeyboardInterrupt\u001b[0m\u001b[0;34m:\u001b[0m\u001b[0;34m\u001b[0m\u001b[0;34m\u001b[0m\u001b[0m\n\u001b[1;32m    903\u001b[0m                 \u001b[0;31m# re-raise KeyboardInterrupt, to truncate traceback\u001b[0m\u001b[0;34m\u001b[0m\u001b[0;34m\u001b[0m\u001b[0;34m\u001b[0m\u001b[0m\n\u001b[0;32m--> 904\u001b[0;31m                 \u001b[0;32mraise\u001b[0m \u001b[0mKeyboardInterrupt\u001b[0m\u001b[0;34m(\u001b[0m\u001b[0;34m\"Interrupted by user\"\u001b[0m\u001b[0;34m)\u001b[0m \u001b[0;32mfrom\u001b[0m \u001b[0;32mNone\u001b[0m\u001b[0;34m\u001b[0m\u001b[0;34m\u001b[0m\u001b[0m\n\u001b[0m\u001b[1;32m    905\u001b[0m             \u001b[0;32mexcept\u001b[0m \u001b[0mException\u001b[0m \u001b[0;32mas\u001b[0m \u001b[0me\u001b[0m\u001b[0;34m:\u001b[0m\u001b[0;34m\u001b[0m\u001b[0;34m\u001b[0m\u001b[0m\n\u001b[1;32m    906\u001b[0m                 \u001b[0mself\u001b[0m\u001b[0;34m.\u001b[0m\u001b[0mlog\u001b[0m\u001b[0;34m.\u001b[0m\u001b[0mwarning\u001b[0m\u001b[0;34m(\u001b[0m\u001b[0;34m\"Invalid Message:\"\u001b[0m\u001b[0;34m,\u001b[0m \u001b[0mexc_info\u001b[0m\u001b[0;34m=\u001b[0m\u001b[0;32mTrue\u001b[0m\u001b[0;34m)\u001b[0m\u001b[0;34m\u001b[0m\u001b[0;34m\u001b[0m\u001b[0m\n",
            "\u001b[0;31mKeyboardInterrupt\u001b[0m: Interrupted by user"
          ]
        }
      ]
    },
    {
      "cell_type": "code",
      "source": [
        "clientes = {}\n",
        "opcion = ''\n",
        "while opcion != '6':\n",
        "    if opcion == '1':\n",
        "        nif = input('Digite el NIF: ')\n",
        "        nombre = input('Digite el nombre del cliente: ')\n",
        "        direccion = input('Digite la dirección del cliente: ')\n",
        "        telefono = input('Digite el teléfono del cliente: ')\n",
        "        email = input('Digite el correo electrónico del cliente: ')\n",
        "        vip = input('Si el cliente es prefente digite SI, de lo contrario oprima cualquier otra tecla ')\n",
        "        cliente = {'nombre':nombre, 'dirección':direccion, 'teléfono':telefono, 'email':email, 'preferente':vip=='Si'or'SI'or\"si\"}\n",
        "        clientes[nif] = cliente\n",
        "    if opcion == '2':\n",
        "        nif = input('Introduce NIF: ')\n",
        "        if nif in clientes:\n",
        "            del clientes[nif]\n",
        "            print(\"se ha eliminado al cliente\")\n",
        "        else:\n",
        "            print('el cliente no se registra en la base de datos', nif)\n",
        "    if opcion == '3':\n",
        "        nif = input('Introduce NIF: ')\n",
        "        if nif in clientes:\n",
        "            print('NIF:', nif)\n",
        "            for clave, valor in clientes[nif].items():\n",
        "                print(clave.title() + ':', valor)\n",
        "        else:\n",
        "            print('el cliente no se registra en la base de datos', nif)\n",
        "    if opcion == '4':\n",
        "        print('Lista de clientes')\n",
        "        for clave, valor in clientes.items():\n",
        "            print(clave, valor['nombre'])\n",
        "    if opcion == '5':\n",
        "        print('Lista de clientes preferentes')\n",
        "        for clave, valor in clientes.items():\n",
        "            if valor['preferente']:\n",
        "                print(clave, valor['nombre'])\n",
        "    opcion = input('Menú de opciones\\n(1) Añadir cliente\\n(2) Eliminar cliente\\n(3) Mostrar cliente\\n(4) Listar clientes\\n(5) Listar clientes preferentes\\n(6) Terminar\\nElige una opción:')\n"
      ],
      "metadata": {
        "colab": {
          "base_uri": "https://localhost:8080/",
          "height": 763
        },
        "id": "BwvXSEKnUswZ",
        "outputId": "0e92ff06-913f-4d35-9cb1-89a35c3d4881"
      },
      "execution_count": 45,
      "outputs": [
        {
          "output_type": "stream",
          "name": "stdout",
          "text": [
            "Menú de opciones\n",
            "(1) Añadir cliente\n",
            "(2) Eliminar cliente\n",
            "(3) Mostrar cliente\n",
            "(4) Listar clientes\n",
            "(5) Listar clientes preferentes\n",
            "(6) Terminar\n",
            "Elige una opción:1\n",
            "Digite el NIF: 2323\n",
            "Digite el nombre del cliente: DIEGO\n",
            "Digite la dirección del cliente: cra\n",
            "Digite el teléfono del cliente: 22\n",
            "Digite el correo electrónico del cliente: dd\n",
            "Si el cliente es prefente digite SI, de lo contrario oprima cualquier otra tecla SI\n",
            "Menú de opciones\n",
            "(1) Añadir cliente\n",
            "(2) Eliminar cliente\n",
            "(3) Mostrar cliente\n",
            "(4) Listar clientes\n",
            "(5) Listar clientes preferentes\n",
            "(6) Terminar\n",
            "Elige una opción:5\n",
            "Lista de clientes preferentes\n",
            "2323 DIEGO\n"
          ]
        },
        {
          "output_type": "error",
          "ename": "KeyboardInterrupt",
          "evalue": "ignored",
          "traceback": [
            "\u001b[0;31m---------------------------------------------------------------------------\u001b[0m",
            "\u001b[0;31mKeyboardInterrupt\u001b[0m                         Traceback (most recent call last)",
            "\u001b[0;32m<ipython-input-45-9ae4776992f3>\u001b[0m in \u001b[0;36m<module>\u001b[0;34m\u001b[0m\n\u001b[1;32m     35\u001b[0m             \u001b[0;32mif\u001b[0m \u001b[0mvalor\u001b[0m\u001b[0;34m[\u001b[0m\u001b[0;34m'preferente'\u001b[0m\u001b[0;34m]\u001b[0m\u001b[0;34m:\u001b[0m\u001b[0;34m\u001b[0m\u001b[0;34m\u001b[0m\u001b[0m\n\u001b[1;32m     36\u001b[0m                 \u001b[0mprint\u001b[0m\u001b[0;34m(\u001b[0m\u001b[0mclave\u001b[0m\u001b[0;34m,\u001b[0m \u001b[0mvalor\u001b[0m\u001b[0;34m[\u001b[0m\u001b[0;34m'nombre'\u001b[0m\u001b[0;34m]\u001b[0m\u001b[0;34m)\u001b[0m\u001b[0;34m\u001b[0m\u001b[0;34m\u001b[0m\u001b[0m\n\u001b[0;32m---> 37\u001b[0;31m     \u001b[0mopcion\u001b[0m \u001b[0;34m=\u001b[0m \u001b[0minput\u001b[0m\u001b[0;34m(\u001b[0m\u001b[0;34m'Menú de opciones\\n(1) Añadir cliente\\n(2) Eliminar cliente\\n(3) Mostrar cliente\\n(4) Listar clientes\\n(5) Listar clientes preferentes\\n(6) Terminar\\nElige una opción:'\u001b[0m\u001b[0;34m)\u001b[0m\u001b[0;34m\u001b[0m\u001b[0;34m\u001b[0m\u001b[0m\n\u001b[0m",
            "\u001b[0;32m/usr/local/lib/python3.7/dist-packages/ipykernel/kernelbase.py\u001b[0m in \u001b[0;36mraw_input\u001b[0;34m(self, prompt)\u001b[0m\n\u001b[1;32m    861\u001b[0m             \u001b[0mself\u001b[0m\u001b[0;34m.\u001b[0m\u001b[0m_parent_ident\u001b[0m\u001b[0;34m,\u001b[0m\u001b[0;34m\u001b[0m\u001b[0;34m\u001b[0m\u001b[0m\n\u001b[1;32m    862\u001b[0m             \u001b[0mself\u001b[0m\u001b[0;34m.\u001b[0m\u001b[0m_parent_header\u001b[0m\u001b[0;34m,\u001b[0m\u001b[0;34m\u001b[0m\u001b[0;34m\u001b[0m\u001b[0m\n\u001b[0;32m--> 863\u001b[0;31m             \u001b[0mpassword\u001b[0m\u001b[0;34m=\u001b[0m\u001b[0;32mFalse\u001b[0m\u001b[0;34m,\u001b[0m\u001b[0;34m\u001b[0m\u001b[0;34m\u001b[0m\u001b[0m\n\u001b[0m\u001b[1;32m    864\u001b[0m         )\n\u001b[1;32m    865\u001b[0m \u001b[0;34m\u001b[0m\u001b[0m\n",
            "\u001b[0;32m/usr/local/lib/python3.7/dist-packages/ipykernel/kernelbase.py\u001b[0m in \u001b[0;36m_input_request\u001b[0;34m(self, prompt, ident, parent, password)\u001b[0m\n\u001b[1;32m    902\u001b[0m             \u001b[0;32mexcept\u001b[0m \u001b[0mKeyboardInterrupt\u001b[0m\u001b[0;34m:\u001b[0m\u001b[0;34m\u001b[0m\u001b[0;34m\u001b[0m\u001b[0m\n\u001b[1;32m    903\u001b[0m                 \u001b[0;31m# re-raise KeyboardInterrupt, to truncate traceback\u001b[0m\u001b[0;34m\u001b[0m\u001b[0;34m\u001b[0m\u001b[0;34m\u001b[0m\u001b[0m\n\u001b[0;32m--> 904\u001b[0;31m                 \u001b[0;32mraise\u001b[0m \u001b[0mKeyboardInterrupt\u001b[0m\u001b[0;34m(\u001b[0m\u001b[0;34m\"Interrupted by user\"\u001b[0m\u001b[0;34m)\u001b[0m \u001b[0;32mfrom\u001b[0m \u001b[0;32mNone\u001b[0m\u001b[0;34m\u001b[0m\u001b[0;34m\u001b[0m\u001b[0m\n\u001b[0m\u001b[1;32m    905\u001b[0m             \u001b[0;32mexcept\u001b[0m \u001b[0mException\u001b[0m \u001b[0;32mas\u001b[0m \u001b[0me\u001b[0m\u001b[0;34m:\u001b[0m\u001b[0;34m\u001b[0m\u001b[0;34m\u001b[0m\u001b[0m\n\u001b[1;32m    906\u001b[0m                 \u001b[0mself\u001b[0m\u001b[0;34m.\u001b[0m\u001b[0mlog\u001b[0m\u001b[0;34m.\u001b[0m\u001b[0mwarning\u001b[0m\u001b[0;34m(\u001b[0m\u001b[0;34m\"Invalid Message:\"\u001b[0m\u001b[0;34m,\u001b[0m \u001b[0mexc_info\u001b[0m\u001b[0;34m=\u001b[0m\u001b[0;32mTrue\u001b[0m\u001b[0;34m)\u001b[0m\u001b[0;34m\u001b[0m\u001b[0;34m\u001b[0m\u001b[0m\n",
            "\u001b[0;31mKeyboardInterrupt\u001b[0m: Interrupted by user"
          ]
        }
      ]
    }
  ]
}