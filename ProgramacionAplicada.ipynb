{
  "nbformat": 4,
  "nbformat_minor": 0,
  "metadata": {
    "colab": {
      "provenance": [],
      "collapsed_sections": [],
      "authorship_tag": "ABX9TyN8rb6PiDRhMMM0LydEH6Ak",
      "include_colab_link": true
    },
    "kernelspec": {
      "name": "python3",
      "display_name": "Python 3"
    },
    "language_info": {
      "name": "python"
    }
  },
  "cells": [
    {
      "cell_type": "markdown",
      "metadata": {
        "id": "view-in-github",
        "colab_type": "text"
      },
      "source": [
        "<a href=\"https://colab.research.google.com/github/Inge-Cappe/TrabajosPython/blob/main/ProgramacionAplicada.ipynb\" target=\"_parent\"><img src=\"https://colab.research.google.com/assets/colab-badge.svg\" alt=\"Open In Colab\"/></a>"
      ]
    },
    {
      "cell_type": "code",
      "execution_count": null,
      "metadata": {
        "colab": {
          "base_uri": "https://localhost:8080/"
        },
        "id": "4iUlK4pbYMMB",
        "outputId": "4b3b998c-75d8-4c4d-896c-8c71e9ce7a21"
      },
      "outputs": [
        {
          "output_type": "stream",
          "name": "stdout",
          "text": [
            "ingrese la cantidad de materias: 2\n",
            "ingrese el nombre de la maetria 1calculo\n",
            "ingrese el nombre de la maetria 2ingles\n",
            "['calculo', 'ingles']\n"
          ]
        }
      ],
      "source": [
        "listamaterias=[]\n",
        "\n",
        "\n",
        "num_materias=int(input('ingrese la cantidad de materias: '))\n",
        "\n",
        "for i in range(num_materias):\n",
        "   materia=input('ingrese el nombre de la maetria '+str(i+1 ))\n",
        "   listamaterias.append(materia)\n",
        "print(listamaterias)"
      ]
    },
    {
      "cell_type": "code",
      "source": [
        "\n",
        "notas=[]\n",
        "for i in range(len(listamaterias)):\n",
        "  nota=float(input(\"ingrese la nota que espera de \"+listamaterias[i] + \" \"))\n",
        "  notas.append(nota)\n",
        "print(notas)\n"
      ],
      "metadata": {
        "colab": {
          "base_uri": "https://localhost:8080/"
        },
        "id": "-Yd4dJIBc4qf",
        "outputId": "76ce91d5-65e1-488d-cccc-23501e1c7018"
      },
      "execution_count": null,
      "outputs": [
        {
          "output_type": "stream",
          "name": "stdout",
          "text": [
            "ingrese la nota que espera de calculo 50\n",
            "ingrese la nota que espera de ingles 50\n",
            "[50.0, 50.0]\n"
          ]
        }
      ]
    },
    {
      "cell_type": "code",
      "source": [
        "paso=[]\n",
        "perdio=[]\n",
        "for i in range(len(listamaterias)):\n",
        "  if(notas[i]>3):\n",
        "    paso.append(listamaterias[i])\n",
        "  else:\n",
        "    perdio.append(listamaterias[i])\n",
        " \n",
        "\n",
        "print(\"las materias que paso fueron: \"+str(paso) +\" \")\n",
        "print(\"las materias que perdio fueron : \"+str (perdio)+ \" \")\n"
      ],
      "metadata": {
        "colab": {
          "base_uri": "https://localhost:8080/"
        },
        "id": "MzwYLDinithp",
        "outputId": "0e12530e-8bba-4d5c-b114-1fac6a355a0e"
      },
      "execution_count": null,
      "outputs": [
        {
          "output_type": "stream",
          "name": "stdout",
          "text": [
            "las materias que paso fueron: ['calculo', 'etica'] \n",
            "las materias que perdio fueron : ['data base', 'programacion'] \n"
          ]
        }
      ]
    },
    {
      "cell_type": "code",
      "source": [
        "palabra= input(\"ingrese una palabra\" + \" \")\n",
        "if str(palabra) == str(palabra)[::-1] :\n",
        "    print(\"el texto o palabra ingresada = \" +palabra+ \" Es un Palindrome \")\n",
        "else:\n",
        "    print(\"El texto o palabra ingresada \" +palabra+ \" no es un Palindrome \" )"
      ],
      "metadata": {
        "colab": {
          "base_uri": "https://localhost:8080/"
        },
        "id": "UJph0Xj2lcpj",
        "outputId": "c147f299-3236-4edf-ea2f-fa1a4bbdf244"
      },
      "execution_count": null,
      "outputs": [
        {
          "output_type": "stream",
          "name": "stdout",
          "text": [
            "ingrese una palabra asa\n",
            "el texto o palabra ingresada = asa Es un Palindrome \n"
          ]
        }
      ]
    },
    {
      "cell_type": "code",
      "source": [
        "import math\n",
        "magnitudV1= int(input(\"ingrese la magnitud del primer vector: \"))\n",
        "magnitudV2= int(input(\"ingrese la magnitud del segundo vector: \" ))\n",
        "grado1= int(input(\"ingrese el grado del primer vector: \"))\n",
        "grado2= int(input(\"ingrese el grado del segundo vector : \"))\n",
        "if (grado1>grado2):\n",
        "   gradodif=(float(grado1))-(float(grado2)) \n",
        "else:\n",
        "    gradodif=(float(grado2))-(float(grado1))\n",
        "\n",
        "magnitudtotal=(magnitudV1*magnitudV2)\n",
        "direccion=(math.cos(gradodif))\n",
        "print(\"la magnitud escalar es :\" +str(magnitudtotal)+\"y su direcion es: \" +str(direccion)+\"grados\")   "
      ],
      "metadata": {
        "colab": {
          "base_uri": "https://localhost:8080/"
        },
        "id": "Nq-m47mMrNoZ",
        "outputId": "13522a95-07b3-41b9-e25d-3b430887f1cc"
      },
      "execution_count": null,
      "outputs": [
        {
          "output_type": "stream",
          "name": "stdout",
          "text": [
            "ingrese la magnitud del primer vector: 2\n",
            "ingrese la magnitud del segundo vector: 3\n",
            "ingrese el grado del primer vector: 2\n",
            "ingrese el grado del segundo vector : 3\n",
            "la magnitud escalar es :6y su direcion es: 0.5403023058681398grados\n"
          ]
        }
      ]
    },
    {
      "cell_type": "code",
      "source": [
        "import numpy\n",
        "Numeros=[]\n",
        "\n",
        "while (True):\n",
        "   \n",
        "    numero=input(\"Ingrese un numero si desea continuar, de lo contrario digite la palabra 'fin' \")\n",
        "    if numero.lower () != (\"fin\"):\n",
        "      Numeros.append(int(numero))\n",
        "    if numero.lower () == (\"fin\"):\n",
        "      #Numeros.pop()\n",
        "      m=numpy.mean(Numeros)\n",
        "      std=numpy.std(Numeros)\n",
        "      print(m)\n",
        "      print(std)\n",
        "      print(Numeros)\n",
        "      break"
      ],
      "metadata": {
        "id": "Tyb_E3GMrhL2",
        "colab": {
          "base_uri": "https://localhost:8080/"
        },
        "outputId": "61c1a325-2cd2-413a-b247-8fc5fc8218c0"
      },
      "execution_count": null,
      "outputs": [
        {
          "output_type": "stream",
          "name": "stdout",
          "text": [
            "Ingrese un numero si desea continuar, de lo contrario digite la palabra 'fin' 2\n",
            "Ingrese un numero si desea continuar, de lo contrario digite la palabra 'fin' fin\n",
            "2.0\n",
            "0.0\n",
            "[2]\n"
          ]
        }
      ]
    },
    {
      "cell_type": "code",
      "source": [
        "valor=int(input(\"Ingrese el monto que paga el usuario\"))\n",
        "pago=int(input(\"Ingrese el total a pagar \"))\n",
        "valor=valor-pago\n",
        "if (valor==0):\n",
        " print(\"Su compra fue exitosa, que tenga un buen dia.\")\n",
        "elif (valor<0):\n",
        "  print(\"ouch, no alcanza, la cantidad faltante es: \",valor*-1)\n",
        "else :\n",
        "    print(\"Porfavor reciba su cambio $\",valor)\n",
        "    denominaciones=[100000,50000,20000,10000,5000,2000,1000,500,200,100,50]\n",
        "    for denominacion in denominaciones:\n",
        "     cantidad=valor//denominacion\n",
        "     valor=valor%denominacion\n",
        "     if cantidad>0:\n",
        "      print(cantidad,\"de \",denominacion)"
      ],
      "metadata": {
        "colab": {
          "base_uri": "https://localhost:8080/"
        },
        "id": "hurvJwSJQboD",
        "outputId": "cd1b3575-8574-4bad-d79c-921e290956b4"
      },
      "execution_count": null,
      "outputs": [
        {
          "output_type": "stream",
          "name": "stdout",
          "text": [
            "Ingrese el monto que paga el usuario2000\n",
            "Ingrese el total a pagar 2000\n",
            "Su compra fue exitosa, que tenga un buen dia.\n"
          ]
        }
      ]
    },
    {
      "cell_type": "code",
      "source": [
        "divisa = {\"Euro\":'€', 'Dollar':'$', 'Yen':'¥'}\n",
        "divisaSeleccionada = input(\"Digite la divisa a la cual desea saber su simbolo: \")\n",
        "if divisaSeleccionada.title() in divisa:\n",
        "    print(\"La divisa correspondiente es: \",divisa[divisaSeleccionada.title()])\n",
        "else:\n",
        "    print(\"La divisa no esta en el diccionario, porfavor rectifique que la divisa este en minuscula, sin puntos ni comas.\")\n",
        "    "
      ],
      "metadata": {
        "colab": {
          "base_uri": "https://localhost:8080/"
        },
        "id": "rcGIZAMMRnaF",
        "outputId": "b289c8c6-1b27-40a1-816c-5e226d1cd400"
      },
      "execution_count": null,
      "outputs": [
        {
          "output_type": "stream",
          "name": "stdout",
          "text": [
            "Digite la divisa a la cual desea saber su simbolo: euro\n",
            "La divisa correspondiente es:  €\n"
          ]
        }
      ]
    },
    {
      "cell_type": "code",
      "source": [
        "Datos = {}\n",
        "nombre = input('Ingrese el nombre: ')\n",
        "edad = int(input('ingrese la edad: '))\n",
        "direccion = (input('ingrese la direccion: '))\n",
        "telefono = int(input('ingrese el telefono: '))\n",
        "\n",
        "Datos[''] = nombre\n",
        "Datos[''] = edad\n",
        "Datos[''] = direccion\n",
        "Datos['']=telefono\n",
        "print(\"\\n\",nombre,\"tiene\",edad,\"años\",\"vive en\",direccion,\"y su numero de telefono es\",telefono)"
      ],
      "metadata": {
        "colab": {
          "base_uri": "https://localhost:8080/"
        },
        "id": "-S-QyjKGSmLs",
        "outputId": "6ace1b84-57e3-4880-ee9c-1d16618c2d4e"
      },
      "execution_count": null,
      "outputs": [
        {
          "output_type": "stream",
          "name": "stdout",
          "text": [
            "Ingrese el nombre: diego\n",
            "ingrese la edad: 20\n",
            "ingrese la direccion: cra\n",
            "ingrese el telefono: 200\n",
            "\n",
            " diego tiene 20 años vive en cra y su numero de telefono es 200\n"
          ]
        }
      ]
    },
    {
      "cell_type": "code",
      "source": [
        "fruta = {\n",
        "            'Platano': 1.35,\n",
        "           'Manzana':0.80,\n",
        "            'Pera':0.85,\n",
        "            'Naranja': 0.70,\n",
        "            \n",
        "}\n",
        "frutas=input(\"Ingrese el nombre la fruta que desea llevar, contamos con\\nPlatano \\nManzana\\nPera\\nNaranja \")\n",
        "if frutas in fruta:\n",
        "  kg=int(input(\"¿Cuantos kilos desea llevar?\"))\n",
        "  print(kg,\"kilos de \", frutas, \"valen \",fruta[frutas]*kg, \"$\")\n",
        "\n",
        "else:\n",
        "   print(\"La fruta ingresada no se encuentra disponible\")"
      ],
      "metadata": {
        "colab": {
          "base_uri": "https://localhost:8080/"
        },
        "id": "nDsaa4zeTA1o",
        "outputId": "b525ad0f-56b2-4541-e190-0f34517bcc26"
      },
      "execution_count": null,
      "outputs": [
        {
          "output_type": "stream",
          "name": "stdout",
          "text": [
            "Ingrese el nombre la fruta que desea llevar, contamos con\n",
            "Platano \n",
            "Manzana\n",
            "Pera\n",
            "Naranja Platano\n",
            "¿Cuantos kilos desea llevar?2\n",
            "2 kilos de  Platano valen  2.7 $\n"
          ]
        }
      ]
    },
    {
      "cell_type": "code",
      "source": [
        "cesta = {}\n",
        "f = True\n",
        "while f:\n",
        "    item = input('Digite el nombre del articulo: ')\n",
        "    precio = float(input('Digite el precio de ' + item + ': '))\n",
        "    cesta[item] = precio\n",
        "    f = input('¿Desea añadir artículos a la lista (Si/No)? ') == \"Si\" or \"si\" or \"SI\"\n",
        "coste = 0\n",
        "print('Lista de compras')\n",
        "for item, precio in cesta.items():\n",
        "    print(item, '\\t', precio)\n",
        "    coste += precio\n",
        "print('Precio total: ', coste)\n"
      ],
      "metadata": {
        "id": "20VGOZbrT42V"
      },
      "execution_count": null,
      "outputs": []
    },
    {
      "cell_type": "code",
      "source": [
        "clientes = {}\n",
        "opcion = ''\n",
        "while opcion != '6':\n",
        "    if opcion == '1':\n",
        "        nif = input('Digite el NIF: ')\n",
        "        nombre = input('Digite el nombre del cliente: ')\n",
        "        direccion = input('Digite la dirección del cliente: ')\n",
        "        telefono = input('Digite el teléfono del cliente: ')\n",
        "        email = input('Digite el correo electrónico del cliente: ')\n",
        "        vip = input('Si el cliente es prefente digite SI, de lo contrario oprima cualquier otra tecla ')\n",
        "        cliente = {'nombre':nombre, 'dirección':direccion, 'teléfono':telefono, 'email':email, 'preferente':vip=='Si'or'SI'or\"si\"}\n",
        "        clientes[nif] = cliente\n",
        "    if opcion == '2':\n",
        "        nif = input('Introduce NIF: ')\n",
        "        if nif in clientes:\n",
        "            del clientes[nif]\n",
        "            print(\"se ha eliminado al cliente\")\n",
        "        else:\n",
        "            print('el cliente no se registra en la base de datos', nif)\n",
        "    if opcion == '3':\n",
        "        nif = input('Introduce NIF: ')\n",
        "        if nif in clientes:\n",
        "            print('NIF:', nif)\n",
        "            for clave, valor in clientes[nif].items():\n",
        "                print(clave.title() + ':', valor)\n",
        "        else:\n",
        "            print('el cliente no se registra en la base de datos', nif)\n",
        "    if opcion == '4':\n",
        "        print('Lista de clientes')\n",
        "        for clave, valor in clientes.items():\n",
        "            print(clave, valor['nombre'])\n",
        "    if opcion == '5':\n",
        "        print('Lista de clientes preferentes')\n",
        "        for clave, valor in clientes.items():\n",
        "            if valor['preferente']:\n",
        "                print(clave, valor['nombre'])\n",
        "    opcion = input('Menú de opciones\\n(1) Añadir cliente\\n(2) Eliminar cliente\\n(3) Mostrar cliente\\n(4) Listar clientes\\n(5) Listar clientes preferentes\\n(6) Terminar\\nElige una opción:')\n"
      ],
      "metadata": {
        "colab": {
          "base_uri": "https://localhost:8080/"
        },
        "id": "BwvXSEKnUswZ",
        "outputId": "c2348115-13b8-4ca2-cc5e-e3a29accaba2"
      },
      "execution_count": null,
      "outputs": [
        {
          "name": "stdout",
          "output_type": "stream",
          "text": [
            "Menú de opciones\n",
            "(1) Añadir cliente\n",
            "(2) Eliminar cliente\n",
            "(3) Mostrar cliente\n",
            "(4) Listar clientes\n",
            "(5) Listar clientes preferentes\n",
            "(6) Terminar\n",
            "Elige una opción:1\n",
            "Digite el NIF: s22\n",
            "Digite el nombre del cliente: d\n",
            "Digite la dirección del cliente: a\n",
            "Digite el teléfono del cliente: 4\n",
            "Digite el correo electrónico del cliente: g\n",
            "Si el cliente es prefente digite SI, de lo contrario oprima cualquier otra tecla s\n",
            "Menú de opciones\n",
            "(1) Añadir cliente\n",
            "(2) Eliminar cliente\n",
            "(3) Mostrar cliente\n",
            "(4) Listar clientes\n",
            "(5) Listar clientes preferentes\n",
            "(6) Terminar\n",
            "Elige una opción:6\n"
          ]
        }
      ]
    }
  ]
}